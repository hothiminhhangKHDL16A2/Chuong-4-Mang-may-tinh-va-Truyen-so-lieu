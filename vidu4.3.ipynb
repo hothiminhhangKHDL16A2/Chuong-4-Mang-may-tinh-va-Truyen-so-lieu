{
 "cells": [
  {
   "cell_type": "code",
   "execution_count": 2,
   "id": "fe5d5a55",
   "metadata": {},
   "outputs": [
    {
     "name": "stdout",
     "output_type": "stream",
     "text": [
      "Mã băm (hash) giao dịch 1: 5c5aeb8b9536fab953afa94c29865d349de9f050e5ac6b227a770863044d9c9e\n",
      "Mã băm (hash) giao dịch 2: ec5159949245af8e64943e981ce1d603a2a73926de963e46ae93dca2c4d5e95d\n",
      "Merkle Root: ef779c7eda7705f197725cae1a98c07b5ecf6d023811c1c5925616f4a92dedd9\n"
     ]
    }
   ],
   "source": [
    "import hashlib\n",
    "\n",
    "def calculate_hash(data):\n",
    "    return hashlib.sha256(data.encode()).hexdigest()\n",
    "\n",
    "# Dữ liệu ban đầu\n",
    "data1 = \"Giao dịch 1\"\n",
    "data2 = \"Giao dịch 2\"\n",
    "\n",
    "# Tính mã băm (hash)\n",
    "hash1 = calculate_hash(data1)\n",
    "hash2 = calculate_hash(data2)\n",
    "\n",
    "# Tạo Merkle Root\n",
    "parent_hash = calculate_hash(hash1 + hash2)\n",
    "\n",
    "print(\"Mã băm (hash) giao dịch 1:\", hash1)\n",
    "print(\"Mã băm (hash) giao dịch 2:\", hash2)\n",
    "print(\"Merkle Root:\", parent_hash)"
   ]
  },
  {
   "cell_type": "code",
   "execution_count": 6,
   "id": "09502d2e",
   "metadata": {},
   "outputs": [
    {
     "name": "stdout",
     "output_type": "stream",
     "text": [
      "Mã băm (hash) giao dịch 1: 884c0e4349e9511c43074464f80ca7a8e42f7117fe00d3b0f57873434cae745f\n",
      "Mã băm (hash) giao dịch 2: 1df8c641381c9a441ce1ba3e4f67a9e6571306faf0364ab6c542b00b26129b1c\n",
      "Merkle Root: d392407e91c972199e3edbdd5cddd6af3de26559fa22fdea21724dcccb25a067\n"
     ]
    }
   ],
   "source": [
    "import hashlib\n",
    "\n",
    "def calculate_hash(data):\n",
    "    return hashlib.sha256(data.encode()).hexdigest()\n",
    "\n",
    "# Dữ liệu ban đầu (giao dịch đơn giản)\n",
    "data1 = \"Nam chuyển 10k cho An\"\n",
    "data2 = \"Lan chuyển 20k cho Bình\"\n",
    "\n",
    "# Tính mã băm (hash)\n",
    "hash1 = calculate_hash(data1)\n",
    "hash2 = calculate_hash(data2)\n",
    "\n",
    "# Tạo Merkle Root\n",
    "parent_hash = calculate_hash(hash1 + hash2)\n",
    "\n",
    "print(\"Mã băm (hash) giao dịch 1:\", hash1)\n",
    "print(\"Mã băm (hash) giao dịch 2:\", hash2)\n",
    "print(\"Merkle Root:\", parent_hash)\n"
   ]
  },
  {
   "cell_type": "code",
   "execution_count": 7,
   "id": "5e3326d6",
   "metadata": {},
   "outputs": [
    {
     "name": "stdout",
     "output_type": "stream",
     "text": [
      "Hash TX1: 5c5aeb8b9536fab953afa94c29865d349de9f050e5ac6b227a770863044d9c9e\n",
      "Hash TX2: ec5159949245af8e64943e981ce1d603a2a73926de963e46ae93dca2c4d5e95d\n",
      "Hash TX3: 4dbaa3c080d6bc79a8408fd9381cea46bc81e31c0de1f702bc7e767ab4d55e3d\n",
      "Hash TX4: 91a07ba6c52ae76c91adf7431e94dc83f55fc09f97cd4955125d8a4dcf67143e\n",
      "Hash H01 (TX1 + TX2): ef779c7eda7705f197725cae1a98c07b5ecf6d023811c1c5925616f4a92dedd9\n",
      "Hash H23 (TX3 + TX4): 440a29746cde0b381306d7ec7ae52db247752943dbec232654bfee75a9e623e7\n",
      "Merkle Root: 168b10e3871356477070e1b54cf7df185e3335b70819aab0e89063dfe46533d3\n"
     ]
    }
   ],
   "source": [
    "import hashlib\n",
    "\n",
    "# Hàm băm SHA-256\n",
    "def sha256(data):\n",
    "    return hashlib.sha256(data.encode()).hexdigest()\n",
    "\n",
    "# Bước 1. Băm 4 giao dịch gốc\n",
    "tx1 = sha256(\"Giao dịch 1\")\n",
    "tx2 = sha256(\"Giao dịch 2\")\n",
    "tx3 = sha256(\"Giao dịch 3\")\n",
    "tx4 = sha256(\"Giao dịch 4\")\n",
    "\n",
    "# Bước 2. Tầng giữa (ghép từng cặp)\n",
    "h01 = sha256(tx1 + tx2)\n",
    "h23 = sha256(tx3 + tx4)\n",
    "\n",
    "# Bước 3. Tạo Merkle Root (tầng gốc)\n",
    "merkle_root = sha256(h01 + h23)\n",
    "\n",
    "print(\"Hash TX1:\", tx1)\n",
    "print(\"Hash TX2:\", tx2)\n",
    "print(\"Hash TX3:\", tx3)\n",
    "print(\"Hash TX4:\", tx4)\n",
    "print(\"Hash H01 (TX1 + TX2):\", h01)\n",
    "print(\"Hash H23 (TX3 + TX4):\", h23)\n",
    "print(\"Merkle Root:\", merkle_root)\n"
   ]
  },
  {
   "cell_type": "code",
   "execution_count": 8,
   "id": "189e3c89",
   "metadata": {},
   "outputs": [
    {
     "name": "stdout",
     "output_type": "stream",
     "text": [
      "Merkle Root (original): 379412c224aa45539eb8d58b5f3c740b99f74525430b8185c93dd05aec59bd64\n",
      "Merkle Root (after TX3 changed): a09357fcad5b13afdb37d02a81d5a09bdfbcd12493544c9cfb8d3f3b84b857b1\n",
      " Block đã bị thay đổi!\n"
     ]
    }
   ],
   "source": [
    "import hashlib\n",
    "\n",
    "def hash_data(data):\n",
    "    return hashlib.sha256(data.encode('utf-8')).hexdigest()\n",
    "\n",
    "# 1. Giao dịch ban đầu\n",
    "TX1 = \"Alice pays Bob 10 BTC\"\n",
    "TX2 = \"Charlie pays Dan 5 BTC\"\n",
    "TX3 = \"Eve pays Frank 8 BTC\"\n",
    "\n",
    "# 2. Tạo hash các giao dịch\n",
    "H1 = hash_data(TX1)\n",
    "H2 = hash_data(TX2)\n",
    "H3 = hash_data(TX3)\n",
    "H4 = H3  # Nhân đôi TX3 vì chỉ có 3 giao dịch\n",
    "\n",
    "# 3. Tính hash các cặp\n",
    "H12 = hash_data(H1 + H2)\n",
    "H34 = hash_data(H3 + H4)\n",
    "\n",
    "# 4. Merkle Root ban đầu\n",
    "merkle_root = hash_data(H12 + H34)\n",
    "print(\"Merkle Root (original):\", merkle_root)\n",
    "\n",
    "# 5. TX3 bị thay đổi\n",
    "TX3_changed = \"Eve pays Frank 9 BTC\"  # Thay đổi nội dung\n",
    "H3_prime = hash_data(TX3_changed)\n",
    "H34_prime = hash_data(H3_prime + H4)\n",
    "merkle_root_new = hash_data(H12 + H34_prime)\n",
    "print(\"Merkle Root (after TX3 changed):\", merkle_root_new)\n",
    "\n",
    "# 6. So sánh\n",
    "if merkle_root == merkle_root_new:\n",
    "    print(\" Block vẫn toàn vẹn.\")\n",
    "else:\n",
    "    print(\" Block đã bị thay đổi!\")\n"
   ]
  },
  {
   "cell_type": "markdown",
   "id": "38157721",
   "metadata": {},
   "source": [
    "Bạn sẽ thấy Merkle Root (after TX3 changed) khác với ban đầu → báo lỗi toàn vẹn!"
   ]
  }
 ],
 "metadata": {
  "kernelspec": {
   "display_name": "Python 3",
   "language": "python",
   "name": "python3"
  },
  "language_info": {
   "codemirror_mode": {
    "name": "ipython",
    "version": 3
   },
   "file_extension": ".py",
   "mimetype": "text/x-python",
   "name": "python",
   "nbconvert_exporter": "python",
   "pygments_lexer": "ipython3",
   "version": "3.10.8"
  }
 },
 "nbformat": 4,
 "nbformat_minor": 5
}
