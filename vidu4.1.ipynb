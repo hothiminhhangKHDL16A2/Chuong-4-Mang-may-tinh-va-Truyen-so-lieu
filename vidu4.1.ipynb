{
 "cells": [
  {
   "cell_type": "code",
   "execution_count": 1,
   "id": "b09a8ab5",
   "metadata": {},
   "outputs": [
    {
     "name": "stdout",
     "output_type": "stream",
     "text": [
      "Băm của chuỗi 1: d4e2614569730c7287b186763fe43ca21d3bc8dcd148453b93eefce08433e8df\n",
      "Băm của chuỗi 2: 0844f3d44370e6e8a2b9042553cb01753423ec4b45d33e29a71ab83d09e435a4\n"
     ]
    }
   ],
   "source": [
    "import hashlib\n",
    "\n",
    "# Hai chuỗi dữ liệu khác nhau chỉ một ký tự\n",
    "data1 = \"Blockchain là công nghệ nền tảng\"\n",
    "data2 = \"blockchain là công nghệ nền tảng\"  # Chữ B viết thường\n",
    "\n",
    "# Tính giá trị băm cho từng chuỗi\n",
    "hash1 = hashlib.sha256(data1.encode()).hexdigest()\n",
    "hash2 = hashlib.sha256(data2.encode()).hexdigest()\n",
    "\n",
    "# In kết quả\n",
    "print(\"Băm của chuỗi 1:\", hash1)\n",
    "print(\"Băm của chuỗi 2:\", hash2)"
   ]
  },
  {
   "cell_type": "markdown",
   "id": "593afa15",
   "metadata": {},
   "source": [
    "Vi du 4.2"
   ]
  },
  {
   "cell_type": "code",
   "execution_count": 2,
   "id": "eff0d1f3",
   "metadata": {},
   "outputs": [
    {
     "name": "stdout",
     "output_type": "stream",
     "text": [
      "Mã băm (hash) của khối: e60f21790925a680f4b3219513eb10015295075aa58fdadfa6e0572eacc87c28\n"
     ]
    }
   ],
   "source": [
    "import hashlib  # Thư viện tích hợp sẵn trong Python\n",
    "                 # để sử dụng các thuật toán băm như SHA-256\n",
    "\n",
    "class Block:\n",
    "    def __init__(self, previous_hash, data):\n",
    "        # Lưu mã băm của khối trước (liên kết chuỗi)\n",
    "        self.previous_hash = previous_hash\n",
    "        # Dữ liệu giao dịch hoặc thông tin cần ghi vào khối\n",
    "        self.data = data\n",
    "        # Tự động tính mã băm khi khối được tạo\n",
    "        self.hash = self.calculate_hash()\n",
    "\n",
    "    def calculate_hash(self):\n",
    "        # Gộp thông tin khối hiện tại và khối trước\n",
    "        block_data = self.previous_hash + self.data\n",
    "        # Tính mã băm SHA-256 (đầu ra là chuỗi 64 ký tự hexa)\n",
    "        return hashlib.sha256(block_data.encode()).hexdigest()\n",
    "\n",
    "# Tạo một khối mới với dữ liệu giả định\n",
    "block = Block(\"0000a7c8...\", \"Transaction Data Example\")\n",
    "\n",
    "# In ra mã băm của khối\n",
    "print(\"Mã băm (hash) của khối:\", block.hash)"
   ]
  }
 ],
 "metadata": {
  "kernelspec": {
   "display_name": "Python 3",
   "language": "python",
   "name": "python3"
  },
  "language_info": {
   "codemirror_mode": {
    "name": "ipython",
    "version": 3
   },
   "file_extension": ".py",
   "mimetype": "text/x-python",
   "name": "python",
   "nbconvert_exporter": "python",
   "pygments_lexer": "ipython3",
   "version": "3.10.8"
  }
 },
 "nbformat": 4,
 "nbformat_minor": 5
}
